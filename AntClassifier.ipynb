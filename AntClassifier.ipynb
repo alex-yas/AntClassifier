{
 "cells":[
  {
   "cell_type":"code",
   "source":[
    "import torch\n",
    "import torch.nn as nn\n",
    "import torch.optim as optim\n",
    "from torch.optim import lr_scheduler\n",
    "import torchvision\n",
    "from torchvision import datasets, transforms\n",
    "from sklearn.metrics import classification_report\n",
    "import os\n",
    "import copy\n",
    "import numpy as np"
   ],
   "execution_count":18,
   "outputs":[
    
   ],
   "metadata":{
    "datalore":{
     "type":"CODE",
     "hide_input_from_viewers":false,
     "hide_output_from_viewers":false,
     "node_id":"svrdlm6tRgv0kDSPEV4DFD"
    }
   }
  },
  {
   "cell_type":"code",
   "source":[
    "data_transforms = {\n",
    "    'train': transforms.Compose([\n",
    "        transforms.RandomResizedCrop(224),\n",
    "        transforms.RandomHorizontalFlip(),\n",
    "        transforms.ToTensor(),\n",
    "        transforms.Normalize([0.485, 0.456, 0.406], [0.229, 0.224, 0.225])\n",
    "    ]),\n",
    "    'val': transforms.Compose([\n",
    "        transforms.Resize(256),\n",
    "        transforms.CenterCrop(224),\n",
    "        transforms.ToTensor(),\n",
    "        transforms.Normalize([0.485, 0.456, 0.406], [0.229, 0.224, 0.225])\n",
    "    ]),\n",
    "}\n",
    "\n",
    "data_dir = 'Yasinetski_dataset'\n",
    "image_datasets = {x: datasets.ImageFolder(os.path.join(data_dir, x),data_transforms[x])for x in ['train', 'val']}\n",
    "dataloaders = {x: torch.utils.data.DataLoader(image_datasets[x], batch_size=5,shuffle=True, num_workers=2)\n",
    "               for x in ['train', 'val']}\n",
    "dataset_sizes = {x: len(image_datasets[x]) for x in ['train', 'val']}\n",
    "class_names = image_datasets['train'].classes\n",
    "print(class_names)\n",
    "print(dataset_sizes)\n",
    "\n",
    "device = torch.device(\"cuda:0\" if torch.cuda.is_available() else \"cpu\")"
   ],
   "execution_count":8,
   "outputs":[
    {
     "name":"stdout",
     "text":[
      "['camponotus_vagus', 'lasius_flavus', 'myrmecia_gulosa', 'odontomachus_bauri']\n",
      "{'train': 476, 'val': 80}\n"
     ],
     "output_type":"stream"
    }
   ],
   "metadata":{
    "datalore":{
     "type":"CODE",
     "hide_input_from_viewers":false,
     "hide_output_from_viewers":false,
     "node_id":"Ug6doLm7SIUqP6jxxRH5wk"
    }
   }
  },
  {
   "cell_type":"code",
   "source":[
    "def train_model(model, criterion, optimizer, scheduler, num_epochs=25):\n",
    "\n",
    "    best_model_wts = copy.deepcopy(model.state_dict())\n",
    "    best_acc = 0.0\n",
    "\n",
    "    for epoch in range(num_epochs):\n",
    "        print('Epoch {}\/{}'.format(epoch+1, num_epochs))\n",
    "        print('-' * 10)\n",
    "\n",
    "        for phase in ['train', 'val']:\n",
    "            if phase == 'train':\n",
    "                model.train()\n",
    "            else:\n",
    "                model.eval()\n",
    "\n",
    "            running_loss = 0.0\n",
    "            running_corrects = 0\n",
    "\n",
    "            for inputs, labels in dataloaders[phase]:\n",
    "                inputs = inputs.to(device)\n",
    "                labels = labels.to(device)\n",
    "\n",
    "                optimizer.zero_grad()\n",
    "\n",
    "                with torch.set_grad_enabled(phase == 'train'):\n",
    "                    outputs = model(inputs)\n",
    "                    _, preds = torch.max(outputs, 1)\n",
    "                    loss = criterion(outputs, labels)\n",
    "\n",
    "                    if phase == 'train':\n",
    "                        loss.backward()\n",
    "                        optimizer.step()\n",
    "\n",
    "                running_loss += loss.item() * inputs.size(0)\n",
    "                running_corrects += torch.sum(preds == labels.data)\n",
    "            if phase == 'train':\n",
    "                scheduler.step()\n",
    "\n",
    "            epoch_loss = running_loss \/ dataset_sizes[phase]\n",
    "            epoch_acc = running_corrects.double() \/ dataset_sizes[phase]\n",
    "\n",
    "            print('{} Loss: {:.4f} Acc: {:.4f}'.format(\n",
    "                phase, epoch_loss, epoch_acc))\n",
    "\n",
    "            if phase == 'val' and epoch_acc > best_acc:\n",
    "                best_acc = epoch_acc\n",
    "                best_model_wts = copy.deepcopy(model.state_dict())\n",
    "\n",
    "        print()\n",
    "\n",
    "    print('Best val Acc: {:4f}'.format(best_acc))\n",
    "\n",
    "    model.load_state_dict(best_model_wts)\n",
    "    return model"
   ],
   "execution_count":9,
   "outputs":[
    
   ],
   "metadata":{
    "datalore":{
     "type":"CODE",
     "hide_input_from_viewers":false,
     "hide_output_from_viewers":false,
     "node_id":"MmNe94p6SZXVKgtAQ1HGEh"
    }
   }
  },
  {
   "cell_type":"code",
   "source":[
    "model_conv = torchvision.models.resnet18(pretrained=True)\n",
    "for param in model_conv.parameters():\n",
    "    param.requires_grad = False\n",
    "\n",
    "num_ftrs = model_conv.fc.in_features\n",
    "model_conv.fc = nn.Linear(num_ftrs, 4)\n",
    "\n",
    "model_conv = model_conv.to(device)\n",
    "\n",
    "\n",
    "criterion = nn.CrossEntropyLoss()\n",
    "\n",
    "optimizer_conv = optim.SGD(model_conv.fc.parameters(), lr=0.001, momentum=0.9)\n",
    "\n",
    "exp_lr_scheduler = lr_scheduler.StepLR(optimizer_conv, step_size=7)"
   ],
   "execution_count":11,
   "outputs":[
    
   ],
   "metadata":{
    "datalore":{
     "type":"CODE",
     "hide_input_from_viewers":false,
     "hide_output_from_viewers":false,
     "node_id":"ufpMhOXQabUdA5PJotSmtS"
    }
   }
  },
  {
   "cell_type":"code",
   "source":[
    "model_conv = train_model(model_conv, criterion, optimizer_conv,exp_lr_scheduler, num_epochs=25)"
   ],
   "execution_count":12,
   "outputs":[
    {
     "name":"stdout",
     "text":[
      "Epoch 1\/25\n",
      "----------\n",
      "train Loss: 1.1184 Acc: 0.4874\n",
      "val Loss: 0.6556 Acc: 0.7625\n",
      "\n",
      "Epoch 2\/25\n",
      "----------\n",
      "train Loss: 0.7574 Acc: 0.7080\n",
      "val Loss: 0.5017 Acc: 0.8000\n",
      "\n",
      "Epoch 3\/25\n",
      "----------\n",
      "train Loss: 0.7311 Acc: 0.6954\n",
      "val Loss: 0.4997 Acc: 0.8000\n",
      "\n",
      "Epoch 4\/25\n",
      "----------\n",
      "train Loss: 0.7801 Acc: 0.6765\n",
      "val Loss: 0.5426 Acc: 0.8250\n",
      "\n",
      "Epoch 5\/25\n",
      "----------\n",
      "train Loss: 0.6505 Acc: 0.7290\n",
      "val Loss: 0.3481 Acc: 0.8625\n",
      "\n",
      "Epoch 6\/25\n",
      "----------\n",
      "train Loss: 0.7116 Acc: 0.7269\n",
      "val Loss: 0.4496 Acc: 0.8000\n",
      "\n",
      "Epoch 7\/25\n",
      "----------\n",
      "train Loss: 0.6650 Acc: 0.7185\n",
      "val Loss: 0.5025 Acc: 0.8000\n",
      "\n",
      "Epoch 8\/25\n",
      "----------\n",
      "train Loss: 0.5559 Acc: 0.7857\n",
      "val Loss: 0.3489 Acc: 0.8750\n",
      "\n",
      "Epoch 9\/25\n",
      "----------\n",
      "train Loss: 0.5290 Acc: 0.7899\n",
      "val Loss: 0.3224 Acc: 0.8875\n",
      "\n",
      "Epoch 10\/25\n",
      "----------\n",
      "train Loss: 0.5460 Acc: 0.7983\n",
      "val Loss: 0.3942 Acc: 0.8375\n",
      "\n",
      "Epoch 11\/25\n",
      "----------\n",
      "train Loss: 0.4714 Acc: 0.8361\n",
      "val Loss: 0.3483 Acc: 0.8875\n",
      "\n",
      "Epoch 12\/25\n",
      "----------\n",
      "train Loss: 0.5634 Acc: 0.7836\n",
      "val Loss: 0.3190 Acc: 0.8750\n",
      "\n",
      "Epoch 13\/25\n",
      "----------\n",
      "train Loss: 0.6505 Acc: 0.7458\n",
      "val Loss: 0.3369 Acc: 0.9000\n",
      "\n",
      "Epoch 14\/25\n",
      "----------\n",
      "train Loss: 0.5513 Acc: 0.7815\n",
      "val Loss: 0.2960 Acc: 0.8875\n",
      "\n",
      "Epoch 15\/25\n",
      "----------\n",
      "train Loss: 0.5010 Acc: 0.8130\n",
      "val Loss: 0.3137 Acc: 0.8750\n",
      "\n",
      "Epoch 16\/25\n",
      "----------\n",
      "train Loss: 0.5319 Acc: 0.8067\n",
      "val Loss: 0.2816 Acc: 0.8875\n",
      "\n",
      "Epoch 17\/25\n",
      "----------\n",
      "train Loss: 0.5571 Acc: 0.7815\n",
      "val Loss: 0.3298 Acc: 0.8875\n",
      "\n",
      "Epoch 18\/25\n",
      "----------\n",
      "train Loss: 0.4978 Acc: 0.7962\n",
      "val Loss: 0.3647 Acc: 0.8625\n",
      "\n",
      "Epoch 19\/25\n",
      "----------\n",
      "train Loss: 0.5203 Acc: 0.8172\n",
      "val Loss: 0.3442 Acc: 0.8625\n",
      "\n",
      "Epoch 20\/25\n",
      "----------\n",
      "train Loss: 0.5658 Acc: 0.7962\n",
      "val Loss: 0.3476 Acc: 0.8250\n",
      "\n",
      "Epoch 21\/25\n",
      "----------\n",
      "train Loss: 0.4969 Acc: 0.8088\n",
      "val Loss: 0.3075 Acc: 0.8875\n",
      "\n",
      "Epoch 22\/25\n",
      "----------\n",
      "train Loss: 0.5701 Acc: 0.7815\n",
      "val Loss: 0.3215 Acc: 0.8875\n",
      "\n",
      "Epoch 23\/25\n",
      "----------\n",
      "train Loss: 0.5225 Acc: 0.8067\n",
      "val Loss: 0.3335 Acc: 0.8625\n",
      "\n",
      "Epoch 24\/25\n",
      "----------\n",
      "train Loss: 0.4609 Acc: 0.8046\n",
      "val Loss: 0.3233 Acc: 0.8750\n",
      "\n",
      "Epoch 25\/25\n",
      "----------\n",
      "train Loss: 0.5367 Acc: 0.7920\n",
      "val Loss: 0.3184 Acc: 0.8875\n",
      "\n",
      "Best val Acc: 0.900000\n"
     ],
     "output_type":"stream"
    }
   ],
   "metadata":{
    "datalore":{
     "type":"CODE",
     "hide_input_from_viewers":false,
     "hide_output_from_viewers":false,
     "node_id":"T3aJ5rCvIm79baeTRXHExL"
    }
   }
  },
  {
   "cell_type":"code",
   "source":[
    "y_pred = []\n",
    "y_true = []\n",
    "with torch.no_grad():\n",
    "    model_conv.eval()\n",
    "    for inputs, labels in dataloaders['val']:\n",
    "        inputs = inputs.to(device)\n",
    "        labels = labels.to(device)\n",
    "        outputs = model_conv(inputs)\n",
    "        _, outputs = torch.max(outputs, dim = 1)\n",
    "        y_pred.append(outputs.cpu().numpy())\n",
    "        y_true.append(labels.cpu().numpy())\n",
    "y_pred = [a.squeeze().tolist() for a in y_pred]\n",
    "y_true = [a.squeeze().tolist() for a in y_true]\n",
    "y_pred = np.array(y_pred)\n",
    "y_true = np.array(y_true)\n",
    "y_pred = y_pred.flatten()\n",
    "y_true = y_true.flatten()"
   ],
   "execution_count":13,
   "outputs":[
    
   ],
   "metadata":{
    "datalore":{
     "type":"CODE",
     "hide_input_from_viewers":false,
     "hide_output_from_viewers":false,
     "node_id":"P5UlLk54i9YpeLS2RWqFS6"
    }
   }
  },
  {
   "cell_type":"code",
   "source":[
    "print(classification_report(y_true,y_pred,target_names=class_names))"
   ],
   "execution_count":14,
   "outputs":[
    {
     "name":"stdout",
     "text":[
      "                    precision    recall  f1-score   support\n",
      "\n",
      "  camponotus_vagus       0.90      0.90      0.90        20\n",
      "     lasius_flavus       0.91      1.00      0.95        20\n",
      "   myrmecia_gulosa       1.00      0.80      0.89        20\n",
      "odontomachus_bauri       0.82      0.90      0.86        20\n",
      "\n",
      "          accuracy                           0.90        80\n",
      "         macro avg       0.91      0.90      0.90        80\n",
      "      weighted avg       0.91      0.90      0.90        80\n",
      "\n"
     ],
     "output_type":"stream"
    }
   ],
   "metadata":{
    "datalore":{
     "type":"CODE",
     "hide_input_from_viewers":false,
     "hide_output_from_viewers":false,
     "node_id":"0QgPmJugeRkp3gAcOWO6jQ"
    }
   }
  }
 ],
 "metadata":{
  "datalore":{
   "version":1,
   "computation_mode":"JUPYTER",
   "package_manager":"pip",
   "base_environment":"default",
   "packages":[
    
   ]
  }
 },
 "nbformat":4,
 "nbformat_minor":4
}